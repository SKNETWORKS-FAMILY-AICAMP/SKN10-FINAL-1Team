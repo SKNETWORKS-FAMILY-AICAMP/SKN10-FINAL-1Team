{
 "cells": [
  {
   "cell_type": "code",
   "execution_count": null,
   "id": "292b8f71",
   "metadata": {},
   "outputs": [
    {
     "data": {
      "text/plain": [
       "[{'assistant_id': 'fe096781-5601-53d2-b2f6-0d3403f7e9ca',\n",
       "  'graph_id': 'agent',\n",
       "  'config': {},\n",
       "  'metadata': {'created_by': 'system'},\n",
       "  'name': 'agent',\n",
       "  'created_at': '2025-05-27T01:42:03.554647+00:00',\n",
       "  'updated_at': '2025-05-27T01:42:03.554647+00:00',\n",
       "  'version': 1,\n",
       "  'description': None}]"
      ]
     },
     "execution_count": 6,
     "metadata": {},
     "output_type": "execute_result"
    }
   ],
   "source": [
    "from langgraph_sdk import get_sync_client, get_client\n",
    "\n",
    "client = get_sync_client(url=\"http://127.0.0.1:2024\")\n",
    "\n",
    "client.assistants.search()"
   ]
  },
  {
   "cell_type": "code",
   "execution_count": 8,
   "id": "e4257249",
   "metadata": {},
   "outputs": [
    {
     "ename": "NameError",
     "evalue": "name 'get_client' is not defined",
     "output_type": "error",
     "traceback": [
      "\u001b[31m---------------------------------------------------------------------------\u001b[39m",
      "\u001b[31mNameError\u001b[39m                                 Traceback (most recent call last)",
      "\u001b[36mCell\u001b[39m\u001b[36m \u001b[39m\u001b[32mIn[8]\u001b[39m\u001b[32m, line 1\u001b[39m\n\u001b[32m----> \u001b[39m\u001b[32m1\u001b[39m client = \u001b[43mget_client\u001b[49m(url=\u001b[33m\"\u001b[39m\u001b[33mhttp://localhost:2024\u001b[39m\u001b[33m\"\u001b[39m)\n\u001b[32m      2\u001b[39m schema = \u001b[38;5;28;01mawait\u001b[39;00m client.assistants.get_schemas(\n\u001b[32m      3\u001b[39m     assistant_id=\u001b[33m\"\u001b[39m\u001b[33mfe096781-5601-53d2-b2f6-0d3403f7e9ca\u001b[39m\u001b[33m\"\u001b[39m\n\u001b[32m      4\u001b[39m )\n\u001b[32m      5\u001b[39m \u001b[38;5;28mprint\u001b[39m(schema)\n",
      "\u001b[31mNameError\u001b[39m: name 'get_client' is not defined"
     ]
    }
   ],
   "source": [
    "client = get_client(url=\"http://localhost:2024\")\n",
    "schema = await client.assistants.get_schemas(\n",
    "    assistant_id=\"fe096781-5601-53d2-b2f6-0d3403f7e9ca\"\n",
    ")\n",
    "print(schema)"
   ]
  }
 ],
 "metadata": {
  "kernelspec": {
   "display_name": ".venv",
   "language": "python",
   "name": "python3"
  },
  "language_info": {
   "codemirror_mode": {
    "name": "ipython",
    "version": 3
   },
   "file_extension": ".py",
   "mimetype": "text/x-python",
   "name": "python",
   "nbconvert_exporter": "python",
   "pygments_lexer": "ipython3",
   "version": "3.11.9"
  }
 },
 "nbformat": 4,
 "nbformat_minor": 5
}
