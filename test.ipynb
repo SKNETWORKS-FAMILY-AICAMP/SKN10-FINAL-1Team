{
 "cells": [
  {
   "cell_type": "code",
   "execution_count": null,
   "id": "9deea3ea",
   "metadata": {},
   "outputs": [
    {
     "name": "stdout",
     "output_type": "stream",
     "text": [
      "proceedings\n",
      "content='proceedings' additional_kwargs={'refusal': None} response_metadata={'token_usage': {'completion_tokens': 3, 'prompt_tokens': 157, 'total_tokens': 160, 'completion_tokens_details': {'accepted_prediction_tokens': 0, 'audio_tokens': 0, 'reasoning_tokens': 0, 'rejected_prediction_tokens': 0}, 'prompt_tokens_details': {'audio_tokens': 0, 'cached_tokens': 0}}, 'model_name': 'gpt-3.5-turbo-0125', 'system_fingerprint': None, 'id': 'chatcmpl-BeWni7tqn18gA1s0sbYIlA1867l8g', 'service_tier': 'default', 'finish_reason': 'stop', 'logprobs': None} id='run--b0cccc22-05b7-4096-9003-63820dba555f-0' usage_metadata={'input_tokens': 157, 'output_tokens': 3, 'total_tokens': 160, 'input_token_details': {'audio': 0, 'cache_read': 0}, 'output_token_details': {'audio': 0, 'reasoning': 0}}\n"
     ]
    }
   ],
   "source": [
    "import PyPDF2\n",
    "from dotenv import load_dotenv\n",
    "import os\n",
    "from langchain_core.prompts import ChatPromptTemplate\n",
    "from langchain_openai import ChatOpenAI\n",
    "\n",
    "results = []\n",
    "with open('meeting/회의록.pdf', \"rb\") as f:\n",
    "    pdf_reader = PyPDF2.PdfReader(f)\n",
    "    for page_num in range(len(pdf_reader.pages)) :\n",
    "        page = pdf_reader.pages[page_num]\n",
    "        text = page.extract_text()\n",
    "        print(f\"Page : {page_num} / Text: {text} \\n\")\n",
    "        results.append(f\"Page : {page_num} / Text: {text} \\n\")"
   ]
  },
  {
   "cell_type": "code",
   "execution_count": null,
   "id": "56c2eef9",
   "metadata": {},
   "outputs": [],
   "source": [
    "from langchain.chat_models import ChatOpenAI\n",
    "from langchain.prompts.chat import (\n",
    "    ChatPromptTemplate,\n",
    "    SystemMessagePromptTemplate,\n",
    "    HumanMessagePromptTemplate,\n",
    ")\n",
    "from dotenv import load_dotenv\n",
    "from IPython.display import Markdown, display\n",
    "load_dotenv()\n",
    "\n",
    "# 1. 메시지 템플릿 생성\n",
    "system_message = SystemMessagePromptTemplate.from_template(\n",
    "    \"너는 어시스턴트야. 내가 회의록 PDF 파일을 주면, 첫번째로 회의 주제 / 목적, \"\n",
    "    \"두번째로 핵심 논의 사항, 세번째로 결정된 사항, 네번째로 보류되거나 추가 논의 항목을 \"\n",
    "    \"요약해서 한국어로 알려줘.\"\n",
    ")\n",
    "human_message = HumanMessagePromptTemplate.from_template(\"{input}\")\n",
    "\n",
    "chat_prompt = ChatPromptTemplate.from_messages([system_message, human_message])\n",
    "\n",
    "# 2. LLM 생성\n",
    "llm = ChatOpenAI(model=\"gpt-4o-mini\")\n",
    "\n",
    "# 3. Prompt와 LLM 결합\n",
    "chatbot = chat_prompt | llm\n",
    "\n",
    "# 4. 실행\n",
    "response = chatbot.invoke({\"input\": results})\n",
    "result = response.content\n",
    "print(result)"
   ]
  },
  {
   "cell_type": "code",
   "execution_count": null,
   "id": "dd279d57",
   "metadata": {},
   "outputs": [],
   "source": [
    "from langchain_community.document_loaders import PDFPlumberLoader\n",
    "loader = PDFPlumberLoader(\"meeting/회의록.pdf\")\n",
    "import pdfplumber\n",
    "with pdfplumber.open(\"meeting/회의록.pdf\") as pdf :\n",
    "    pages = pdf.pages # 페이지 리스트\n",
    "    for page in pages : \n",
    "        im = page.to_image(resolution=150) # Page 객체 -> PageImage라는 객체로 반환\n",
    "        im.draw_rects(page.extract_words()) # 페이지에서 추출한 단어들의 위치 좌표에 사각형(rect)을 그리는 함수입니다.\n",
    "\n",
    "# 마지막 페이지만 화면 그대로 출력\n",
    "im.show()"
   ]
  },
  {
   "cell_type": "code",
   "execution_count": 3,
   "id": "dd0fd08e",
   "metadata": {},
   "outputs": [
    {
     "name": "stdout",
     "output_type": "stream",
     "text": [
      "✅ OpenAI 클라이언트 생성 완료\n",
      "✅ Pinecone 클라이언트 생성 완료\n"
     ]
    },
    {
     "name": "stderr",
     "output_type": "stream",
     "text": [
      "c:\\dev\\github\\SKN10-FINAL-01Team\\.venv\\Lib\\site-packages\\tqdm\\auto.py:21: TqdmWarning: IProgress not found. Please update jupyter and ipywidgets. See https://ipywidgets.readthedocs.io/en/stable/user_install.html\n",
      "  from .autonotebook import tqdm as notebook_tqdm\n"
     ]
    },
    {
     "name": "stdout",
     "output_type": "stream",
     "text": [
      "✅ Pinecone 인덱스 'dense-index' 연결 완료 (Namespaces: 3)\n"
     ]
    }
   ],
   "source": [
    "import os\n",
    "from dataclasses import dataclass\n",
    "from typing import TypedDict, Dict # Dict 추가\n",
    "\n",
    "from langchain_core.prompts import PromptTemplate\n",
    "from langchain_openai import ChatOpenAI\n",
    "from langgraph.graph import END, START, StateGraph\n",
    "from dotenv import load_dotenv\n",
    "from openai import OpenAI\n",
    "from pinecone import Pinecone, ServerlessSpec\n",
    "load_dotenv()\n",
    "# 1-1) openai Client 생성\n",
    "openai_api_key = os.getenv(\"OPENAI_API_KEY\")\n",
    "if not openai_api_key:\n",
    "    raise ValueError(\"⚠️ 환경변수 OPENAI_API_KEY가 설정되지 않았습니다.\")\n",
    "# OpenAI 인스턴스를 만듭니다.\n",
    "openai_client = OpenAI(api_key=openai_api_key)\n",
    "print(\"✅ OpenAI 클라이언트 생성 완료\")\n",
    "    \n",
    "# 1-2) Pinecone 인스턴스 생성\n",
    "if not os.getenv(\"PINECONE_API_KEY\") or not os.getenv(\"PINECONE_ENVIRONMENT\"):\n",
    "    raise ValueError(\"⚠️ 환경변수 PINECONE_API_KEY 또는 PINECONE_ENV가 누락되었습니다.\")\n",
    "\n",
    "pc = Pinecone(api_key=os.getenv(\"PINECONE_API_KEY\"), environment=os.getenv(\"PINECONE_ENVIRONMENT\"))\n",
    "print(\"✅ Pinecone 클라이언트 생성 완료\")\n",
    "\n",
    "# 1-3) 인덱스 존재 여부 확인\n",
    "index_name = \"dense-index\"  # 실제 사용 중인 인덱스 이름으로 교체하세요\n",
    "existing_indexes = pc.list_indexes().names()\n",
    "if index_name not in existing_indexes:\n",
    "    raise ValueError(f\"⚠️ 인덱스 '{index_name}'가 Pinecone에 존재하지 않습니다. 현재 인덱스 목록: {existing_indexes}\")\n",
    "\n",
    "# 1-4) 해당 인덱스 객체 가져오기\n",
    "index = pc.Index(index_name)\n",
    "print(f\"✅ Pinecone 인덱스 '{index_name}' 연결 완료 (Namespaces: {len(index.describe_index_stats().namespaces)})\")"
   ]
  },
  {
   "cell_type": "code",
   "execution_count": null,
   "id": "d6b888f0",
   "metadata": {},
   "outputs": [
    {
     "name": "stdout",
     "output_type": "stream",
     "text": [
      "['user_github_repos/']\n",
      "[]\n",
      "[{'type': 'folder', 'name': 'user_github_repos'}]\n"
     ]
    }
   ],
   "source": [
    "import boto3\n",
    "from dotenv import load_dotenv\n",
    "import os\n",
    "load_dotenv()\n",
    "def get_s3_client() :\n",
    "    return boto3.client(\n",
    "        \"s3\",\n",
    "        aws_access_key_id=os.getenv('AWS_ACCESS_KEY_ID'),\n",
    "        aws_secret_access_key=os.getenv('AWS_SECRET_ACCESS_KEY'),\n",
    "        region_name=os.getenv('AWS_S3_REGION_NAME')\n",
    "    )\n",
    "\n",
    "\n",
    "bucket=\"code-agent\"\n",
    "prefix=\"\"\n",
    "s3 = get_s3_client()\n",
    "resp = s3.list_objects_v2(\n",
    "        Bucket=bucket,\n",
    "        Prefix=prefix,\n",
    "        Delimiter=\"/\"  # 가상 폴더 단위로 끊어줌\n",
    "    )\n",
    "\n",
    "# CommonPrefixes → 한 단계 하위 폴더, Contents → 한 단계 하위 파일\n",
    "folders = [p[\"Prefix\"] for p in resp.get(\"CommonPrefixes\", [])]\n",
    "files   = [o[\"Key\"]    for o in resp.get(\"Contents\", []) if o[\"Key\"] != prefix]\n",
    "\n",
    "# 클라이언트가 쓰기 좋게 이름만 남겨서 리턴\n",
    "data = [\n",
    "    {\"type\": \"folder\", \"name\": f[len(prefix):].rstrip(\"/\")}\n",
    "    for f in folders\n",
    "] + [\n",
    "    {\"type\": \"file\",   \"name\": f[len(prefix):].rstrip(\"/\")}\n",
    "    for f in files\n",
    "]\n",
    "print(folders)\n",
    "print(files)\n",
    "print(data)\n",
    "\n",
    "def s3_objects_api(request):\n",
    "    \"\"\"\n",
    "    AJAX로 호출될 JSON API.\n",
    "    ?bucket=이름&prefix=경로 형태로 호출.\n",
    "    \"\"\"\n",
    "    s3 = get_s3_client()\n",
    "    bucket = request.GET.get(\"bucket\")\n",
    "    prefix = request.GET.get(\"prefix\", \"\")\n",
    "\n",
    "    if not bucket:\n",
    "        # 1) bucket 파라미터가 없으면 “버킷 목록” 화면\n",
    "        data = [{ \"type\" : \"folder\", \"name\" : b[\"Name\"]} for b in s3.list_buckets().get(\"Buckets\", [])]\n",
    "        print(data)\n",
    "        return data\n",
    "    \n",
    "    # s3.list_objects_v2() : 버킷 안의 객체(파일) 목록을 가져오는 메서드\n",
    "    # Bucket : 가져올 버킷, Prefix : 이전 경로\n",
    "    # prefix=\"logs/2025/\" 로 주면 버킷 안에서 logs/2025/ 로 시작하는 모든 파일만 조회\n",
    "    resp = s3.list_objects_v2(\n",
    "        Bucket=bucket,\n",
    "        Prefix=prefix,\n",
    "        Delimiter=\"/\"  # 가상 폴더 단위로 끊어줌\n",
    "    )\n",
    "\n",
    "    # CommonPrefixes → 한 단계 하위 폴더, Contents → 한 단계 하위 파일\n",
    "    folders = [p[\"Prefix\"] for p in resp.get(\"CommonPrefixes\", [])]\n",
    "    files   = [o[\"Key\"]    for o in resp.get(\"Contents\", []) if o[\"Key\"] != prefix]\n",
    "\n",
    "    # 클라이언트가 쓰기 좋게 이름만 남겨서 리턴\n",
    "    # 클라이언트가 쓰기 좋게 이름만 남겨서 리턴\n",
    "    data = [\n",
    "        {\"type\": \"folder\", \"name\": f[len(prefix):].rstrip(\"/\")}\n",
    "        for f in folders\n",
    "    ] + [\n",
    "        {\"type\": \"file\",   \"name\": f[len(prefix):].rstrip(\"/\")}\n",
    "        for f in files\n",
    "    ]\n",
    "    return data"
   ]
  },
  {
   "cell_type": "code",
   "execution_count": null,
   "id": "5b8ebc48",
   "metadata": {},
   "outputs": [],
   "source": []
  }
 ],
 "metadata": {
  "kernelspec": {
   "display_name": ".venv",
   "language": "python",
   "name": "python3"
  },
  "language_info": {
   "codemirror_mode": {
    "name": "ipython",
    "version": 3
   },
   "file_extension": ".py",
   "mimetype": "text/x-python",
   "name": "python",
   "nbconvert_exporter": "python",
   "pygments_lexer": "ipython3",
   "version": "3.11.9"
  }
 },
 "nbformat": 4,
 "nbformat_minor": 5
}
