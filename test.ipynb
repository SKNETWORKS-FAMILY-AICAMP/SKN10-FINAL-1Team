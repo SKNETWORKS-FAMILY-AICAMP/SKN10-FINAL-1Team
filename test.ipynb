{
 "cells": [
  {
   "cell_type": "code",
   "execution_count": 2,
   "id": "dd255ccc",
   "metadata": {},
   "outputs": [
    {
     "name": "stdout",
     "output_type": "stream",
     "text": [
      "Looking in links: c:\\Users\\Playdata\\AppData\\Local\\Temp\\tmp9bl38tbz\n",
      "Processing c:\\users\\playdata\\appdata\\local\\temp\\tmp9bl38tbz\\setuptools-65.5.0-py3-none-any.whl\n",
      "Processing c:\\users\\playdata\\appdata\\local\\temp\\tmp9bl38tbz\\pip-24.0-py3-none-any.whl\n",
      "Installing collected packages: setuptools, pip\n",
      "Successfully installed pip-24.0 setuptools-65.5.0\n"
     ]
    }
   ],
   "source": [
    "import sys\n",
    "!{sys.executable} -m ensurepip --upgrade"
   ]
  },
  {
   "cell_type": "code",
   "execution_count": 1,
   "id": "467d1656",
   "metadata": {},
   "outputs": [
    {
     "name": "stdout",
     "output_type": "stream",
     "text": [
      "Collecting pandas\n",
      "  Using cached pandas-2.2.3-cp311-cp311-win_amd64.whl.metadata (19 kB)\n",
      "Collecting psycopg2-binary\n",
      "  Downloading psycopg2_binary-2.9.10-cp311-cp311-win_amd64.whl.metadata (5.0 kB)\n",
      "Collecting python-dotenv\n",
      "  Using cached python_dotenv-1.1.0-py3-none-any.whl.metadata (24 kB)\n",
      "Collecting matplotlib\n",
      "  Downloading matplotlib-3.10.3-cp311-cp311-win_amd64.whl.metadata (11 kB)\n",
      "Collecting seaborn\n",
      "  Using cached seaborn-0.13.2-py3-none-any.whl.metadata (5.4 kB)\n",
      "Collecting numpy>=1.23.2 (from pandas)\n",
      "  Downloading numpy-2.2.6-cp311-cp311-win_amd64.whl.metadata (60 kB)\n",
      "     ---------------------------------------- 0.0/60.8 kB ? eta -:--:--\n",
      "     ---------------------------------------- 60.8/60.8 kB 3.2 MB/s eta 0:00:00\n",
      "Requirement already satisfied: python-dateutil>=2.8.2 in c:\\development\\github\\skn10-final-1team\\.venv\\lib\\site-packages (from pandas) (2.9.0.post0)\n",
      "Collecting pytz>=2020.1 (from pandas)\n",
      "  Using cached pytz-2025.2-py2.py3-none-any.whl.metadata (22 kB)\n",
      "Collecting tzdata>=2022.7 (from pandas)\n",
      "  Using cached tzdata-2025.2-py2.py3-none-any.whl.metadata (1.4 kB)\n",
      "Collecting contourpy>=1.0.1 (from matplotlib)\n",
      "  Downloading contourpy-1.3.2-cp311-cp311-win_amd64.whl.metadata (5.5 kB)\n",
      "Collecting cycler>=0.10 (from matplotlib)\n",
      "  Using cached cycler-0.12.1-py3-none-any.whl.metadata (3.8 kB)\n",
      "Collecting fonttools>=4.22.0 (from matplotlib)\n",
      "  Downloading fonttools-4.58.1-cp311-cp311-win_amd64.whl.metadata (108 kB)\n",
      "     ---------------------------------------- 0.0/108.2 kB ? eta -:--:--\n",
      "     -------------------------------------- 108.2/108.2 kB 6.1 MB/s eta 0:00:00\n",
      "Collecting kiwisolver>=1.3.1 (from matplotlib)\n",
      "  Using cached kiwisolver-1.4.8-cp311-cp311-win_amd64.whl.metadata (6.3 kB)\n",
      "Requirement already satisfied: packaging>=20.0 in c:\\development\\github\\skn10-final-1team\\.venv\\lib\\site-packages (from matplotlib) (25.0)\n",
      "Collecting pillow>=8 (from matplotlib)\n",
      "  Using cached pillow-11.2.1-cp311-cp311-win_amd64.whl.metadata (9.1 kB)\n",
      "Collecting pyparsing>=2.3.1 (from matplotlib)\n",
      "  Using cached pyparsing-3.2.3-py3-none-any.whl.metadata (5.0 kB)\n",
      "Requirement already satisfied: six>=1.5 in c:\\development\\github\\skn10-final-1team\\.venv\\lib\\site-packages (from python-dateutil>=2.8.2->pandas) (1.17.0)\n",
      "Using cached pandas-2.2.3-cp311-cp311-win_amd64.whl (11.6 MB)\n",
      "Downloading psycopg2_binary-2.9.10-cp311-cp311-win_amd64.whl (1.2 MB)\n",
      "   ---------------------------------------- 0.0/1.2 MB ? eta -:--:--\n",
      "   --------------- ------------------------ 0.4/1.2 MB 13.4 MB/s eta 0:00:01\n",
      "   ---------------------------------------- 1.2/1.2 MB 14.6 MB/s eta 0:00:00\n",
      "Using cached python_dotenv-1.1.0-py3-none-any.whl (20 kB)\n",
      "Downloading matplotlib-3.10.3-cp311-cp311-win_amd64.whl (8.1 MB)\n",
      "   ---------------------------------------- 0.0/8.1 MB ? eta -:--:--\n",
      "   ---- ----------------------------------- 0.9/8.1 MB 18.7 MB/s eta 0:00:01\n",
      "   --------- ------------------------------ 1.9/8.1 MB 20.3 MB/s eta 0:00:01\n",
      "   --------------- ------------------------ 3.1/8.1 MB 21.6 MB/s eta 0:00:01\n",
      "   ---------------------- ----------------- 4.5/8.1 MB 24.1 MB/s eta 0:00:01\n",
      "   ------------------------------- -------- 6.5/8.1 MB 27.4 MB/s eta 0:00:01\n",
      "   -------------------------------------- - 7.8/8.1 MB 27.8 MB/s eta 0:00:01\n",
      "   ---------------------------------------- 8.1/8.1 MB 25.7 MB/s eta 0:00:00\n",
      "Using cached seaborn-0.13.2-py3-none-any.whl (294 kB)\n",
      "Downloading contourpy-1.3.2-cp311-cp311-win_amd64.whl (222 kB)\n",
      "   ---------------------------------------- 0.0/222.0 kB ? eta -:--:--\n",
      "   --------------------------------------- 222.0/222.0 kB 13.2 MB/s eta 0:00:00\n",
      "Using cached cycler-0.12.1-py3-none-any.whl (8.3 kB)\n",
      "Downloading fonttools-4.58.1-cp311-cp311-win_amd64.whl (2.2 MB)\n",
      "   ---------------------------------------- 0.0/2.2 MB ? eta -:--:--\n",
      "   --------------------------------- ------ 1.9/2.2 MB 60.4 MB/s eta 0:00:01\n",
      "   ---------------------------------------- 2.2/2.2 MB 35.3 MB/s eta 0:00:00\n",
      "Using cached kiwisolver-1.4.8-cp311-cp311-win_amd64.whl (71 kB)\n",
      "Downloading numpy-2.2.6-cp311-cp311-win_amd64.whl (12.9 MB)\n",
      "   ---------------------------------------- 0.0/12.9 MB ? eta -:--:--\n",
      "   ---------- ----------------------------- 3.3/12.9 MB 69.7 MB/s eta 0:00:01\n",
      "   -------------------- ------------------- 6.6/12.9 MB 70.5 MB/s eta 0:00:01\n",
      "   ------------------------------ --------- 9.7/12.9 MB 69.1 MB/s eta 0:00:01\n",
      "   -------------------------------------- - 12.3/12.9 MB 65.6 MB/s eta 0:00:01\n",
      "   ---------------------------------------- 12.9/12.9 MB 59.4 MB/s eta 0:00:00\n",
      "Using cached pillow-11.2.1-cp311-cp311-win_amd64.whl (2.7 MB)\n",
      "Using cached pyparsing-3.2.3-py3-none-any.whl (111 kB)\n",
      "Using cached pytz-2025.2-py2.py3-none-any.whl (509 kB)\n",
      "Using cached tzdata-2025.2-py2.py3-none-any.whl (347 kB)\n",
      "Installing collected packages: pytz, tzdata, python-dotenv, pyparsing, psycopg2-binary, pillow, numpy, kiwisolver, fonttools, cycler, pandas, contourpy, matplotlib, seaborn\n",
      "Successfully installed contourpy-1.3.2 cycler-0.12.1 fonttools-4.58.1 kiwisolver-1.4.8 matplotlib-3.10.3 numpy-2.2.6 pandas-2.2.3 pillow-11.2.1 psycopg2-binary-2.9.10 pyparsing-3.2.3 python-dotenv-1.1.0 pytz-2025.2 seaborn-0.13.2 tzdata-2025.2\n",
      "Note: you may need to restart the kernel to use updated packages.\n"
     ]
    },
    {
     "name": "stderr",
     "output_type": "stream",
     "text": [
      "\n",
      "[notice] A new release of pip is available: 24.0 -> 25.1.1\n",
      "[notice] To update, run: python.exe -m pip install --upgrade pip\n"
     ]
    }
   ],
   "source": [
    "%pip install pandas psycopg2-binary python-dotenv matplotlib seaborn"
   ]
  },
  {
   "cell_type": "code",
   "execution_count": 2,
   "id": "19b93ed1",
   "metadata": {},
   "outputs": [
    {
     "name": "stdout",
     "output_type": "stream",
     "text": [
      ".env 파일을 다음 경로에서 로드했습니다: c:\\development\\github\\SKN10-FINAL-1Team\\my_langraph_agent\\.env\n",
      "데이터베이스 연결 정보를 성공적으로 로드했습니다.\n",
      "연결 대상: mydatabase@35.170.244.126:5432\n"
     ]
    }
   ],
   "source": [
    "import os\n",
    "import pandas as pd\n",
    "import psycopg2 # PostgreSQL 어댑터\n",
    "from dotenv import load_dotenv\n",
    "import matplotlib.pyplot as plt\n",
    "import seaborn as sns # 좀 더 보기 좋은 시각화를 위해 (선택 사항)\n",
    "\n",
    "# --- 환경 변수 로드 ---\n",
    "# .env 파일 경로를 필요에 따라 수정하세요.\n",
    "# 옵션 1: 노트북 파일과 동일한 디렉토리 (SKN10-FINAL-1Team)에 .env 파일이 있는 경우\n",
    "dotenv_path_option1 = '.env'\n",
    "# 옵션 2: my_langraph_agent 디렉토리에 .env 파일이 있는 경우 (SKN10-FINAL-1Team 기준 상대 경로)\n",
    "dotenv_path_option2 = os.path.join('my_langraph_agent', '.env')\n",
    "\n",
    "# my_langraph_agent 디렉토리에서 먼저 .env 파일을 찾고, 없으면 현재 디렉토리에서 찾습니다.\n",
    "if os.path.exists(dotenv_path_option2):\n",
    "    load_dotenv(dotenv_path=dotenv_path_option2)\n",
    "    print(f\".env 파일을 다음 경로에서 로드했습니다: {os.path.abspath(dotenv_path_option2)}\")\n",
    "elif os.path.exists(dotenv_path_option1):\n",
    "    load_dotenv(dotenv_path=dotenv_path_option1)\n",
    "    print(f\".env 파일을 다음 경로에서 로드했습니다: {os.path.abspath(dotenv_path_option1)}\")\n",
    "else:\n",
    "    print(\"경고: .env 파일을 찾을 수 없습니다. DB 연결 정보가 환경 변수로 설정되었거나 .env 파일 경로를 확인해주세요.\")\n",
    "\n",
    "# --- 데이터베이스 연결 정보 ---\n",
    "DB_HOST = os.getenv(\"DB_HOST\")\n",
    "DB_PORT = os.getenv(\"DB_PORT\", \"5432\") # 설정되지 않은 경우 기본값 5432\n",
    "DB_NAME = os.getenv(\"DB_NAME\")\n",
    "DB_USER = os.getenv(\"DB_USER\")\n",
    "DB_PASSWORD = os.getenv(\"DB_PASSWORD\")\n",
    "\n",
    "# 모든 필수 정보가 로드되었는지 확인\n",
    "if not all([DB_HOST, DB_NAME, DB_USER, DB_PASSWORD]):\n",
    "    missing = [var_name for var_name, var_val in [(\"DB_HOST\", DB_HOST), (\"DB_NAME\", DB_NAME), (\"DB_USER\", DB_USER), (\"DB_PASSWORD\", DB_PASSWORD)] if not var_val]\n",
    "    print(f\"오류: PostgreSQL 연결 정보가 누락되었습니다: {', '.join(missing)}. .env 파일 또는 환경 변수를 확인해주세요.\")\n",
    "else:\n",
    "    print(\"데이터베이스 연결 정보를 성공적으로 로드했습니다.\")\n",
    "    print(f\"연결 대상: {DB_NAME}@{DB_HOST}:{DB_PORT}\")\n"
   ]
  },
  {
   "cell_type": "code",
   "execution_count": 5,
   "id": "5b1180c6",
   "metadata": {},
   "outputs": [
    {
     "name": "stderr",
     "output_type": "stream",
     "text": [
      "C:\\Users\\Playdata\\AppData\\Local\\Temp\\ipykernel_11288\\3996009675.py:10: UserWarning: pandas only supports SQLAlchemy connectable (engine/connection) or database string URI or sqlite3 DBAPI2 connection. Other DBAPI2 objects are not tested. Please consider using SQLAlchemy.\n",
      "  tables_df = pd.read_sql_query(query_tables, conn_check)\n"
     ]
    },
    {
     "name": "stdout",
     "output_type": "stream",
     "text": [
      "데이터베이스의 테이블 목록:\n",
      "                       table_name\n",
      "0         pg_stat_statements_info\n",
      "1              pg_stat_statements\n",
      "2                  django_session\n",
      "3                   news_articles\n",
      "4               django_migrations\n",
      "5             django_content_type\n",
      "6                 auth_permission\n",
      "7                      auth_group\n",
      "8          auth_group_permissions\n",
      "9                   organizations\n",
      "10                          users\n",
      "11          summary_news_keywords\n",
      "12                   users_groups\n",
      "13         users_user_permissions\n",
      "14                      llm_calls\n",
      "15               django_admin_log\n",
      "16                  chat_sessions\n",
      "17                  chat_messages\n",
      "18              telecom_customers\n",
      "19  knowledge_summarynewskeywords\n",
      "20          checkpoint_migrations\n",
      "21                    checkpoints\n",
      "22               checkpoint_blobs\n",
      "23              checkpoint_writes\n",
      "24               git_repositories\n",
      "25                     code_files\n",
      "26                      documents\n",
      "27                   embed_chunks\n",
      "28              analytics_results\n",
      "29                model_artifacts\n"
     ]
    }
   ],
   "source": [
    "# 새 셀에서 실행\n",
    "import os, pandas as pd, psycopg2\n",
    "from dotenv import load_dotenv\n",
    "# (셀 1의 .env 로드 및 DB 접속 정보 설정 코드 필요)\n",
    "\n",
    "if all([DB_HOST, DB_NAME, DB_USER, DB_PASSWORD]):\n",
    "    try:\n",
    "        conn_check = psycopg2.connect(host=DB_HOST, database=DB_NAME, user=DB_USER, password=DB_PASSWORD, port=DB_PORT)\n",
    "        query_tables = \"SELECT table_name FROM information_schema.tables WHERE table_schema = 'public';\"\n",
    "        tables_df = pd.read_sql_query(query_tables, conn_check)\n",
    "        print(\"데이터베이스의 테이블 목록:\")\n",
    "        print(tables_df)\n",
    "        if conn_check:\n",
    "            conn_check.close()\n",
    "    except Exception as e:\n",
    "        print(f\"테이블 목록 조회 중 오류: {e}\")\n",
    "else:\n",
    "    print(\"DB 연결 정보 부족\")"
   ]
  },
  {
   "cell_type": "code",
   "execution_count": 6,
   "id": "af0903d8",
   "metadata": {},
   "outputs": [
    {
     "name": "stdout",
     "output_type": "stream",
     "text": [
      "PostgreSQL 연결 시도 중: myuser@35.170.244.126:5432/mydatabase\n",
      "PostgreSQL에 성공적으로 연결되었습니다.\n",
      "SQL 쿼리 실행 중: SELECT * FROM summary_news_keywords LIMIT 10;\n"
     ]
    },
    {
     "name": "stderr",
     "output_type": "stream",
     "text": [
      "C:\\Users\\Playdata\\AppData\\Local\\Temp\\ipykernel_11288\\1152581256.py:21: UserWarning: pandas only supports SQLAlchemy connectable (engine/connection) or database string URI or sqlite3 DBAPI2 connection. Other DBAPI2 objects are not tested. Please consider using SQLAlchemy.\n",
      "  df = pd.read_sql_query(sql_query, conn)\n"
     ]
    },
    {
     "name": "stdout",
     "output_type": "stream",
     "text": [
      "데이터를 성공적으로 조회했습니다:\n",
      "                                     id        date                   keyword  \\\n",
      "0  3a89a409-6e0f-4c36-8003-023caeb30047  2025-05-29                      서비스를   \n",
      "1  b9a65681-a325-43a0-86f8-7ce60b2922d6  2025-05-29                       SKT   \n",
      "2  8b163d2b-0a74-4fac-b7f2-e295bad3af97  2025-05-29  SKT,ssss,ssssdds,sdasdas   \n",
      "3  34c1875f-b144-4b0b-a707-b29280f35573  2025-05-29                       SKT   \n",
      "4  0c77bb54-ada3-4fe8-9e44-e504bbf281ee  2025-05-29                     SK텔레콤   \n",
      "\n",
      "                                  title  \\\n",
      "0        이채연, 정치색 논란 차단‥센스 폭발한 사전투표 인증샷   \n",
      "1  [DD퇴근길] 페북 유명인 사칭광고 사라질까…안면인식 도입 초읽기   \n",
      "2                  대선후보의 SKT 해킹사고 대응공약은   \n",
      "3  SKT 유심 교체자 500만 명 돌파…\"6월 초 모두 교체 예정\"   \n",
      "4            양구군농협, ‘찾아가는 유심 교체 서비스’ 진행   \n",
      "\n",
      "                                             summary  \\\n",
      "0  이채연, 정치색 논란 차단‥센스 폭발한 사전투표 인증샷입력공감좋아요응원해요축하해요기...   \n",
      "1  29일 업계에 따르면 SK하이닉스와 SK에코플랜트는 미국 현지 인디애나주에 팀을 파...   \n",
      "2  국민의힘·민주당 '사이버 위협 공약' 분석 대형사고 계기로 보안정책강화 '한목소리'...   \n",
      "3  SK텔레콤 누적 유심(USIM) 교체자 수가 29일 0시 기준 500만 명을 돌파했...   \n",
      "4  양구군농협은 29일 SK텔레콤 수도권본부와 함께 ‘찾아가는 유심 교체 서비스’를 진...   \n",
      "\n",
      "                                                 url  \n",
      "0  https://n.news.naver.com/mnews/article/609/000...  \n",
      "1  https://www.ddaily.co.kr/page/view/20250529170...  \n",
      "2  http://news.bizwatch.co.kr/article/mobile/2025...  \n",
      "3     https://www.hankyung.com/article/2025052948617  \n",
      "4  https://www.kwnews.co.kr/page/view/20250529142...  \n",
      "PostgreSQL 연결이 닫혔습니다.\n"
     ]
    }
   ],
   "source": [
    "# --- PostgreSQL 연결 및 데이터 조회 ---\n",
    "# 실제 실행할 SQL 쿼리로 변경하세요.\n",
    "sql_query = \"SELECT * FROM summary_news_keywords LIMIT 10;\" # 예시 쿼리\n",
    "\n",
    "conn = None\n",
    "df = pd.DataFrame() # 빈 DataFrame으로 초기화\n",
    "\n",
    "if all([DB_HOST, DB_NAME, DB_USER, DB_PASSWORD]):\n",
    "    try:\n",
    "        print(f\"PostgreSQL 연결 시도 중: {DB_USER}@{DB_HOST}:{DB_PORT}/{DB_NAME}\")\n",
    "        conn = psycopg2.connect(\n",
    "            host=DB_HOST,\n",
    "            database=DB_NAME,\n",
    "            user=DB_USER,\n",
    "            password=DB_PASSWORD,\n",
    "            port=DB_PORT\n",
    "        )\n",
    "        print(\"PostgreSQL에 성공적으로 연결되었습니다.\")\n",
    "        \n",
    "        print(f\"SQL 쿼리 실행 중: {sql_query}\")\n",
    "        df = pd.read_sql_query(sql_query, conn)\n",
    "        \n",
    "        if df.empty:\n",
    "            print(\"SQL 쿼리 결과 데이터가 없습니다.\")\n",
    "        else:\n",
    "            print(\"데이터를 성공적으로 조회했습니다:\")\n",
    "            print(df.head()) # 조회된 데이터의 첫 5행 출력\n",
    "\n",
    "    except psycopg2.Error as e:\n",
    "        print(f\"PostgreSQL 연결 또는 쿼리 실행 중 오류 발생: {e}\")\n",
    "    finally:\n",
    "        if conn:\n",
    "            conn.close()\n",
    "            print(\"PostgreSQL 연결이 닫혔습니다.\")\n",
    "else:\n",
    "    print(\"연결 정보 부족으로 데이터베이스에 연결할 수 없습니다.\")"
   ]
  },
  {
   "cell_type": "code",
   "execution_count": null,
   "id": "2abce059",
   "metadata": {},
   "outputs": [],
   "source": []
  }
 ],
 "metadata": {
  "kernelspec": {
   "display_name": ".venv",
   "language": "python",
   "name": "python3"
  },
  "language_info": {
   "codemirror_mode": {
    "name": "ipython",
    "version": 3
   },
   "file_extension": ".py",
   "mimetype": "text/x-python",
   "name": "python",
   "nbconvert_exporter": "python",
   "pygments_lexer": "ipython3",
   "version": "3.11.9"
  }
 },
 "nbformat": 4,
 "nbformat_minor": 5
}
