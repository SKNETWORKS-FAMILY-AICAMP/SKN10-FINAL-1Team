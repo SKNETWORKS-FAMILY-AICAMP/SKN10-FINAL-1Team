{
 "cells": [
  {
   "cell_type": "code",
   "execution_count": 3,
   "id": "9deea3ea",
   "metadata": {},
   "outputs": [
    {
     "name": "stdout",
     "output_type": "stream",
     "text": [
      "proceedings\n",
      "content='proceedings' additional_kwargs={'refusal': None} response_metadata={'token_usage': {'completion_tokens': 3, 'prompt_tokens': 157, 'total_tokens': 160, 'completion_tokens_details': {'accepted_prediction_tokens': 0, 'audio_tokens': 0, 'reasoning_tokens': 0, 'rejected_prediction_tokens': 0}, 'prompt_tokens_details': {'audio_tokens': 0, 'cached_tokens': 0}}, 'model_name': 'gpt-3.5-turbo-0125', 'system_fingerprint': None, 'id': 'chatcmpl-BeWni7tqn18gA1s0sbYIlA1867l8g', 'service_tier': 'default', 'finish_reason': 'stop', 'logprobs': None} id='run--b0cccc22-05b7-4096-9003-63820dba555f-0' usage_metadata={'input_tokens': 157, 'output_tokens': 3, 'total_tokens': 160, 'input_token_details': {'audio': 0, 'cache_read': 0}, 'output_token_details': {'audio': 0, 'reasoning': 0}}\n"
     ]
    }
   ],
   "source": [
    "from langchain_core.runnables import RunnableConfig\n",
    "from langgraph.graph import StateGraph\n",
    "from langchain_openai import ChatOpenAI\n",
    "from dotenv import load_dotenv\n",
    "from langchain_core.prompts import PromptTemplate\n",
    "\n",
    "def choose_document_type(message):\n",
    "    load_dotenv()\n",
    "    prompt = PromptTemplate(\n",
    "        input_variables=[\"input\"],\n",
    "        template=\"'{input}'가 사용자 질문이야. 너가 판단해서 해당 질문이 Product/사내 문서/기술 문서/회의록 중에 어떤 질문에 해당하는지 하나를 선택하고,\" \\\n",
    "        \"Product관련 질문이면 'product', 회의록 관련 질문이면 'proceedings', 사내 문서 관련 질문이면 'hr_policy', 기술 문서 관련 질문이면 'technical_document' 라고 답해줘.\"\n",
    "    )\n",
    "\n",
    "    # LLM 설정 \n",
    "    llm = ChatOpenAI(model=\"gpt-3.5-turbo\")\n",
    "\n",
    "    # prompt + llm\n",
    "    chain = prompt | llm\n",
    "\n",
    "    # 4. 실행\n",
    "    response = chain.invoke({\"input\": message})\n",
    "    print(response.content)\n",
    "    return response\n",
    "\n",
    "print(choose_document_type(\"6월 2일자 회의록 요약해줘.\"))"
   ]
  }
 ],
 "metadata": {
  "kernelspec": {
   "display_name": ".venv",
   "language": "python",
   "name": "python3"
  },
  "language_info": {
   "codemirror_mode": {
    "name": "ipython",
    "version": 3
   },
   "file_extension": ".py",
   "mimetype": "text/x-python",
   "name": "python",
   "nbconvert_exporter": "python",
   "pygments_lexer": "ipython3",
   "version": "3.11.9"
  }
 },
 "nbformat": 4,
 "nbformat_minor": 5
}
